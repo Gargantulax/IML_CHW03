{
 "cells": [
  {
   "cell_type": "markdown",
   "id": "1b46fe41",
   "metadata": {},
   "source": [
    "<div align=center>\n",
    "\n",
    "<font size=5>\n",
    "    In the Name of God\n",
    "<font/>\n",
    "<br/>\n",
    "<br/>\n",
    "<font>\n",
    "    Sharif University of Technology - Departmenet of Electrical Engineering\n",
    "</font>\n",
    "<br/>\n",
    "<font>\n",
    "    Introducing with Machine Learing - Dr. S. Amini\n",
    "</font>\n",
    "<br/>\n",
    "<br/>\n",
    "Spring 2023\n",
    "\n",
    "</div>\n",
    "\n",
    "<hr/>\n",
    "<div align=center>\n",
    "<font size=6>\n",
    "    Neural Networks Practical Assignment\n",
    "    \n",
    "    Question 1\n",
    "</font>\n",
    "<br/>\t\t\n",
    "<font size=4>\n",
    "<br/>\n",
    "</div>"
   ]
  },
  {
   "cell_type": "markdown",
   "id": "24a0fc13",
   "metadata": {
    "id": "a6c2fd6d"
   },
   "source": [
    "# Personal Data"
   ]
  },
  {
   "cell_type": "code",
   "execution_count": 31,
   "id": "44babb65",
   "metadata": {
    "id": "4e90a030"
   },
   "outputs": [],
   "source": [
    "# Set your student number\n",
    "student_number = 99106255\n",
    "Name = 'Alireza'\n",
    "Last_Name = 'Shokrani'"
   ]
  },
  {
   "cell_type": "markdown",
   "id": "ca4a337a",
   "metadata": {
    "id": "339da203"
   },
   "source": [
    "# Rules\n",
    "- You are not allowed to add or remove cells. You **must use the provided space to write your code**. If you don't follow this rule, **your Practical Assignment won't be graded**.  \n",
    "\n",
    "- Collaboration and using the internet is allowed, but your code **must be written by yourself**. **Copying code** from each other or from available resources will result in a **zero score for the assignment**.\n",
    "\n",
    "- You are not allowed to use `torch.nn`, `torch.optim` and any activation function and loss function implemented in torch. "
   ]
  },
  {
   "cell_type": "code",
   "execution_count": 32,
   "id": "12b76789",
   "metadata": {
    "id": "881f2e4c"
   },
   "outputs": [
    {
     "name": "stdout",
     "output_type": "stream",
     "text": [
      "Requirement already satisfied: numpy in c:\\users\\alireza\\appdata\\local\\programs\\python\\python39\\lib\\site-packages (1.21.4)\n"
     ]
    },
    {
     "name": "stderr",
     "output_type": "stream",
     "text": [
      "WARNING: You are using pip version 21.3.1; however, version 23.1.2 is available.\n",
      "You should consider upgrading via the 'C:\\Users\\Alireza\\AppData\\Local\\Programs\\Python\\Python39\\python.exe -m pip install --upgrade pip' command.\n"
     ]
    },
    {
     "name": "stdout",
     "output_type": "stream",
     "text": [
      "Requirement already satisfied: matplotlib in c:\\users\\alireza\\appdata\\local\\programs\\python\\python39\\lib\\site-packages (3.5.1)\n",
      "Requirement already satisfied: cycler>=0.10 in c:\\users\\alireza\\appdata\\local\\programs\\python\\python39\\lib\\site-packages (from matplotlib) (0.11.0)\n",
      "Requirement already satisfied: pyparsing>=2.2.1 in c:\\users\\alireza\\appdata\\local\\programs\\python\\python39\\lib\\site-packages (from matplotlib) (3.0.6)\n",
      "Requirement already satisfied: kiwisolver>=1.0.1 in c:\\users\\alireza\\appdata\\local\\programs\\python\\python39\\lib\\site-packages (from matplotlib) (1.3.2)\n",
      "Requirement already satisfied: packaging>=20.0 in c:\\users\\alireza\\appdata\\roaming\\python\\python39\\site-packages (from matplotlib) (23.0)\n",
      "Requirement already satisfied: pillow>=6.2.0 in c:\\users\\alireza\\appdata\\local\\programs\\python\\python39\\lib\\site-packages (from matplotlib) (8.4.0)\n",
      "Requirement already satisfied: fonttools>=4.22.0 in c:\\users\\alireza\\appdata\\local\\programs\\python\\python39\\lib\\site-packages (from matplotlib) (4.28.3)\n",
      "Requirement already satisfied: numpy>=1.17 in c:\\users\\alireza\\appdata\\local\\programs\\python\\python39\\lib\\site-packages (from matplotlib) (1.21.4)\n",
      "Requirement already satisfied: python-dateutil>=2.7 in c:\\users\\alireza\\appdata\\roaming\\python\\python39\\site-packages (from matplotlib) (2.8.2)\n",
      "Requirement already satisfied: six>=1.5 in c:\\users\\alireza\\appdata\\roaming\\python\\python39\\site-packages (from python-dateutil>=2.7->matplotlib) (1.16.0)\n"
     ]
    },
    {
     "name": "stderr",
     "output_type": "stream",
     "text": [
      "WARNING: You are using pip version 21.3.1; however, version 23.1.2 is available.\n",
      "You should consider upgrading via the 'C:\\Users\\Alireza\\AppData\\Local\\Programs\\Python\\Python39\\python.exe -m pip install --upgrade pip' command.\n"
     ]
    },
    {
     "name": "stdout",
     "output_type": "stream",
     "text": [
      "Requirement already satisfied: torchvision in c:\\users\\alireza\\appdata\\local\\programs\\python\\python39\\lib\\site-packages (0.15.2)\n",
      "Requirement already satisfied: requests in c:\\users\\alireza\\appdata\\local\\programs\\python\\python39\\lib\\site-packages (from torchvision) (2.28.1)\n",
      "Requirement already satisfied: pillow!=8.3.*,>=5.3.0 in c:\\users\\alireza\\appdata\\local\\programs\\python\\python39\\lib\\site-packages (from torchvision) (8.4.0)\n",
      "Requirement already satisfied: torch==2.0.1 in c:\\users\\alireza\\appdata\\local\\programs\\python\\python39\\lib\\site-packages (from torchvision) (2.0.1)\n",
      "Requirement already satisfied: numpy in c:\\users\\alireza\\appdata\\local\\programs\\python\\python39\\lib\\site-packages (from torchvision) (1.21.4)\n",
      "Requirement already satisfied: filelock in c:\\users\\alireza\\appdata\\local\\programs\\python\\python39\\lib\\site-packages (from torch==2.0.1->torchvision) (3.12.0)\n",
      "Requirement already satisfied: typing-extensions in c:\\users\\alireza\\appdata\\local\\programs\\python\\python39\\lib\\site-packages (from torch==2.0.1->torchvision) (4.6.3)\n",
      "Requirement already satisfied: jinja2 in c:\\users\\alireza\\appdata\\local\\programs\\python\\python39\\lib\\site-packages (from torch==2.0.1->torchvision) (3.1.2)\n",
      "Requirement already satisfied: networkx in c:\\users\\alireza\\appdata\\local\\programs\\python\\python39\\lib\\site-packages (from torch==2.0.1->torchvision) (3.1)\n",
      "Requirement already satisfied: sympy in c:\\users\\alireza\\appdata\\local\\programs\\python\\python39\\lib\\site-packages (from torch==2.0.1->torchvision) (1.12)\n",
      "Requirement already satisfied: certifi>=2017.4.17 in c:\\users\\alireza\\appdata\\local\\programs\\python\\python39\\lib\\site-packages (from requests->torchvision) (2022.6.15)\n",
      "Requirement already satisfied: urllib3<1.27,>=1.21.1 in c:\\users\\alireza\\appdata\\local\\programs\\python\\python39\\lib\\site-packages (from requests->torchvision) (1.26.11)\n",
      "Requirement already satisfied: charset-normalizer<3,>=2 in c:\\users\\alireza\\appdata\\local\\programs\\python\\python39\\lib\\site-packages (from requests->torchvision) (2.1.0)\n",
      "Requirement already satisfied: idna<4,>=2.5 in c:\\users\\alireza\\appdata\\local\\programs\\python\\python39\\lib\\site-packages (from requests->torchvision) (3.3)\n",
      "Requirement already satisfied: MarkupSafe>=2.0 in c:\\users\\alireza\\appdata\\local\\programs\\python\\python39\\lib\\site-packages (from jinja2->torch==2.0.1->torchvision) (2.1.3)\n",
      "Requirement already satisfied: mpmath>=0.19 in c:\\users\\alireza\\appdata\\local\\programs\\python\\python39\\lib\\site-packages (from sympy->torch==2.0.1->torchvision) (1.3.0)\n"
     ]
    },
    {
     "name": "stderr",
     "output_type": "stream",
     "text": [
      "WARNING: You are using pip version 21.3.1; however, version 23.1.2 is available.\n",
      "You should consider upgrading via the 'C:\\Users\\Alireza\\AppData\\Local\\Programs\\Python\\Python39\\python.exe -m pip install --upgrade pip' command.\n"
     ]
    },
    {
     "name": "stdout",
     "output_type": "stream",
     "text": [
      "Requirement already satisfied: torch in c:\\users\\alireza\\appdata\\local\\programs\\python\\python39\\lib\\site-packages (2.0.1)\n",
      "Requirement already satisfied: networkx in c:\\users\\alireza\\appdata\\local\\programs\\python\\python39\\lib\\site-packages (from torch) (3.1)\n",
      "Requirement already satisfied: jinja2 in c:\\users\\alireza\\appdata\\local\\programs\\python\\python39\\lib\\site-packages (from torch) (3.1.2)\n",
      "Requirement already satisfied: filelock in c:\\users\\alireza\\appdata\\local\\programs\\python\\python39\\lib\\site-packages (from torch) (3.12.0)\n",
      "Requirement already satisfied: typing-extensions in c:\\users\\alireza\\appdata\\local\\programs\\python\\python39\\lib\\site-packages (from torch) (4.6.3)\n",
      "Requirement already satisfied: sympy in c:\\users\\alireza\\appdata\\local\\programs\\python\\python39\\lib\\site-packages (from torch) (1.12)\n",
      "Requirement already satisfied: MarkupSafe>=2.0 in c:\\users\\alireza\\appdata\\local\\programs\\python\\python39\\lib\\site-packages (from jinja2->torch) (2.1.3)\n",
      "Requirement already satisfied: mpmath>=0.19 in c:\\users\\alireza\\appdata\\local\\programs\\python\\python39\\lib\\site-packages (from sympy->torch) (1.3.0)\n"
     ]
    },
    {
     "name": "stderr",
     "output_type": "stream",
     "text": [
      "WARNING: You are using pip version 21.3.1; however, version 23.1.2 is available.\n",
      "You should consider upgrading via the 'C:\\Users\\Alireza\\AppData\\Local\\Programs\\Python\\Python39\\python.exe -m pip install --upgrade pip' command.\n"
     ]
    }
   ],
   "source": [
    "!pip install numpy\n",
    "!pip install matplotlib\n",
    "!pip install torchvision\n",
    "!pip install torch"
   ]
  },
  {
   "cell_type": "markdown",
   "id": "886188c7",
   "metadata": {},
   "source": [
    "## Importing Libraries"
   ]
  },
  {
   "cell_type": "code",
   "execution_count": 33,
   "id": "55a0adcc",
   "metadata": {},
   "outputs": [],
   "source": [
    "import torch\n",
    "from torchvision.datasets import FashionMNIST\n",
    "from torchvision import transforms\n",
    "from torch.utils.data import DataLoader\n",
    "\n",
    "import numpy as np\n",
    "from matplotlib import pyplot as plt\n",
    "from typing import Dict"
   ]
  },
  {
   "cell_type": "markdown",
   "id": "18510868",
   "metadata": {},
   "source": [
    "## Datasets and Dataloaders\n",
    "\n",
    "Here, we download and load the train and test `FashionMNIST` dataset with the desired transforms. Then, we define the dataloaders for `train` and `test`."
   ]
  },
  {
   "cell_type": "code",
   "execution_count": 34,
   "id": "dc8759e2",
   "metadata": {},
   "outputs": [],
   "source": [
    "train_set = FashionMNIST(root='.', train=True, download=True, transform=transforms.ToTensor())\n",
    "test_set = FashionMNIST(root='.', train=False, download=True, transform=transforms.ToTensor())"
   ]
  },
  {
   "cell_type": "code",
   "execution_count": 35,
   "id": "8f6763e6",
   "metadata": {},
   "outputs": [],
   "source": [
    "image_shape = train_set[0][0].shape\n",
    "input_dim = np.prod(image_shape).item()\n",
    "num_classes = len(FashionMNIST.classes)"
   ]
  },
  {
   "cell_type": "code",
   "execution_count": 77,
   "id": "c695ff60",
   "metadata": {},
   "outputs": [],
   "source": [
    "train_loader = DataLoader(train_set, 64, shuffle=True)\n",
    "test_loader = DataLoader(test_set, 64, shuffle=True)"
   ]
  },
  {
   "cell_type": "markdown",
   "id": "f9dac6c2",
   "metadata": {},
   "source": [
    "## Visualization\n",
    "\n",
    "Visualize 1 random image from each class\n",
    "\n",
    "- **Hint**:  You can use `plt.subplots` for visualization"
   ]
  },
  {
   "cell_type": "code",
   "execution_count": 37,
   "id": "e3d6b0c1",
   "metadata": {},
   "outputs": [
    {
     "data": {
      "image/png": "[encoded data removed]",
      "text/plain": [
       "<Figure size 640x480 with 10 Axes>"
      ]
     },
     "metadata": {},
     "output_type": "display_data"
    }
   ],
   "source": [
    "## FILL HERE\n",
    "\n",
    "seed = np.random.randint(1, len(train_set))\n",
    "i = 0\n",
    "while i < num_classes:\n",
    "    if train_set[seed][1] == i:\n",
    "        plt.subplot(4, 3, i+1)\n",
    "        plt.imshow(train_set[seed][0][0,:,:], 'gray')\n",
    "        plt.axis('off')\n",
    "        plt.title(FashionMNIST.classes[i], fontsize = 8)\n",
    "        i += 1\n",
    "    seed += 1\n",
    "    if seed >= len(train_set):\n",
    "        seed = 0\n",
    "\n",
    "plt.show()\n"
   ]
  },
  {
   "cell_type": "markdown",
   "id": "a94c5aba",
   "metadata": {},
   "source": [
    "## Initializing model's parameters\n",
    "\n",
    "In this part, we create the model and initialize its parameters and store the values of these parameters in the variable `parameters` which is a dictionary including the weigths and biases of each layer."
   ]
  },
  {
   "cell_type": "code",
   "execution_count": 38,
   "id": "e6d40952",
   "metadata": {},
   "outputs": [],
   "source": [
    "def add_linear_layer(parameters: dict, shape, device, i=None):\n",
    "    \"\"\"\n",
    "    This function adds parameters of a linear unit of shape `shape` to the `parameters` dictionary.\n",
    "    \"\"\"\n",
    "    n_in, n_out = shape\n",
    "    with torch.no_grad():\n",
    "        w = torch.zeros(*shape, device=device)\n",
    "        # kaiming initialization for ReLU activations:\n",
    "        bound = 1 / np.sqrt(n_in).item()\n",
    "        w.uniform_(-bound, bound)\n",
    "        b = torch.zeros(n_out, device=device)  # no need to (1, n_out). it will broadcast itself.\n",
    "    w.requires_grad = True\n",
    "    b.requires_grad = True\n",
    "    # `i` is used to give numbers to parameter names\n",
    "    parameters.update({f'w{i}': w, f'b{i}': b})"
   ]
  },
  {
   "cell_type": "markdown",
   "id": "ce914706",
   "metadata": {},
   "source": [
    "Now we define our neural network with the given layers and add the weights and biases to the dictionary `parameters`. **You are allowed to modify the values of the layers**."
   ]
  },
  {
   "cell_type": "code",
   "execution_count": 144,
   "id": "8f3867d7",
   "metadata": {},
   "outputs": [
    {
     "data": {
      "text/plain": [
       "dict_keys(['w0', 'b0', 'w1', 'b1', 'w2', 'b2', 'w3', 'b3', 'w4', 'b4'])"
      ]
     },
     "execution_count": 144,
     "metadata": {},
     "output_type": "execute_result"
    }
   ],
   "source": [
    "layers = [\n",
    "    (input_dim, 512),\n",
    "    (512, 256),\n",
    "    (256, 128),\n",
    "    (128, 64),\n",
    "    (64, num_classes)\n",
    "]\n",
    "num_layers = len(layers)\n",
    "parameters = {}\n",
    "\n",
    "# setting the device\n",
    "device = torch.device(\"cuda\" if torch.cuda.is_available() else \"cpu\")\n",
    "\n",
    "# adding the parameters to the dictionary\n",
    "for i, shape in enumerate(layers):\n",
    "    add_linear_layer(parameters, shape, device, i)\n",
    "\n",
    "parameters.keys()\n"
   ]
  },
  {
   "cell_type": "markdown",
   "id": "8bfd2c8e",
   "metadata": {},
   "source": [
    "## Defining the required functions\n",
    "\n",
    "In this section, we should define the required functions. For each of these functions, the inputs and the desired outputs are given and you should write all or part of the function. **You are not allowed to use the activation functions and the loss functions implemented in torch**."
   ]
  },
  {
   "cell_type": "markdown",
   "id": "f3b413d8",
   "metadata": {},
   "source": [
    "Computing affine and relu outputs:"
   ]
  },
  {
   "cell_type": "code",
   "execution_count": 143,
   "id": "bebeeb0e",
   "metadata": {},
   "outputs": [],
   "source": [
    "def affine_forward(x, w, b):\n",
    "    ## FILL HERE\n",
    "    return torch.matmul(w.T, x) + b\n",
    "\n",
    "\n",
    "def relu(x):\n",
    "    ## FILL HERE\n",
    "    return (x > 0) * x"
   ]
  },
  {
   "cell_type": "markdown",
   "id": "5d9baa5e",
   "metadata": {},
   "source": [
    "Function `model` returns output of the whole model for the input `x` using the parameters:"
   ]
  },
  {
   "cell_type": "code",
   "execution_count": 194,
   "id": "d2562962",
   "metadata": {},
   "outputs": [],
   "source": [
    "def model(x: torch.Tensor, parameters, num_layers=num_layers):\n",
    "    # number of batches\n",
    "    B = x.shape[0]\n",
    "    x = x.view(B, -1)\n",
    "    \n",
    "    ## FILL HERE\n",
    "    output = torch.zeros(list(parameters.values())[-1].shape[0], B)\n",
    "    for j in range(B):\n",
    "        p = x[j]\n",
    "        for i in range(num_layers):\n",
    "            p = relu(affine_forward(p, parameters[f'w{i}'], parameters[f'b{i}']))\n",
    "        output[:,j] = p\n",
    "    return output"
   ]
  },
  {
   "cell_type": "markdown",
   "id": "d17a9b4c",
   "metadata": {},
   "source": [
    "Implementing cross entropy loss:"
   ]
  },
  {
   "cell_type": "code",
   "execution_count": 42,
   "id": "6959621c",
   "metadata": {},
   "outputs": [],
   "source": [
    "def cross_entropy_loss(scores, y):\n",
    "    n = len(y)\n",
    "    ## FILL HERE\n",
    "    s = 0\n",
    "    for c in range(num_classes):\n",
    "        s += np.exp(scores[c])\n",
    "    return np.log(s) - scores[y]\n"
   ]
  },
  {
   "cell_type": "markdown",
   "id": "15a589af",
   "metadata": {},
   "source": [
    "Implementing a function for optimizing paramters and a function to zeroing out their gradients:"
   ]
  },
  {
   "cell_type": "code",
   "execution_count": 43,
   "id": "3121c147",
   "metadata": {},
   "outputs": [],
   "source": [
    "def sgd_optimizer(parameters: Dict[str, torch.Tensor], learning_rate=0.001):\n",
    "    '''This function gets the parameters and a learning rate. Then updates the parameters using their\n",
    "    gradient (parameter.grad). Finally, you should zero the gradients of the parameters after updating\n",
    "    the parameter value.'''\n",
    "    ## FILL HERE\n",
    "    for parameter in parameters.values():\n",
    "        parameter -= learning_rate * parameter.grad\n",
    "\n",
    "    for parameter in parameters.values():\n",
    "        parameter.grad.zero_()\n"
   ]
  },
  {
   "cell_type": "markdown",
   "id": "e17b4cf8",
   "metadata": {},
   "source": [
    "Training functions:"
   ]
  },
  {
   "cell_type": "code",
   "execution_count": 44,
   "id": "8695f9be",
   "metadata": {},
   "outputs": [
    {
     "data": {
      "text/plain": [
       "4"
      ]
     },
     "execution_count": 44,
     "metadata": {},
     "output_type": "execute_result"
    }
   ],
   "source": [
    "a = np.array([1,2,3,4,5])\n",
    "b = np.array([1,2,3,7,5])\n",
    "sum((a == b)*1)"
   ]
  },
  {
   "cell_type": "code",
   "execution_count": 45,
   "id": "76c0f03b",
   "metadata": {},
   "outputs": [],
   "source": [
    "def accuracy(y_pred: np.ndarray, y_true: np.ndarray):\n",
    "    ## FILL HERE\n",
    "    acc = sum((y_pred == y_true)*1) / len(y_true)\n",
    "    return acc\n",
    "\n",
    "def train(train_loader, learning_rate=0.001, epoch=None):\n",
    "    '''This function implements the training loop for a single epoch. For each batch you should do the following:\n",
    "        1- Calculate the output of the model to the given input batch\n",
    "        2- Calculate the loss based on the model output\n",
    "        3- Update the gradients using loss.backward() method\n",
    "        4- Optimize the model parameters using the sgd_optimizer function defined previously\n",
    "        5- Print the train loss (Show the epoch and batch as well)\n",
    "        '''\n",
    "    train_loss = 0\n",
    "    N_train = len(train_loader.dataset)\n",
    "    \n",
    "    # Creating empty lists Y and Y_pred to store the labels and predictions of each batch\n",
    "    # for calculateing the accuracy later\n",
    "    Y = []\n",
    "    Y_pred = []\n",
    "    \n",
    "    \n",
    "    for i, (x, y) in enumerate(train_loader):\n",
    "        x = x.to(device)\n",
    "        y = y.to(device)\n",
    "        p = model(x, parameters)\n",
    "\n",
    "        ## FILL HERE\n",
    "        loss = cross_entropy_loss(p, y)\n",
    "        loss.backward()\n",
    "        sgd_optimizer(parameters, learning_rate)\n",
    "        train_loss += loss\n",
    "\n",
    "        y_pred = p.argmax(dim=-1)\n",
    "        Y.append(y.cpu().numpy())\n",
    "        Y_pred.append(y_pred.cpu().numpy())\n",
    "        \n",
    "\n",
    "    Y = np.concatenate(Y)\n",
    "    Y_pred = np.concatenate(Y_pred)\n",
    "    total_loss /= N_train\n",
    "    acc = accuracy(Y_pred, Y)\n",
    "    print(f'Accuracy of train set: {acc}')\n",
    "    return train_loss, acc\n",
    "\n",
    "\n",
    "def validate(loader, epoch=None, set_name=None):\n",
    "    '''This function validates the model on the test dataloader. The function goes through each batch and does\n",
    "    the following on each batch:\n",
    "        1- Calculate the model output\n",
    "        2- Calculate the loss using the model output\n",
    "        3- Print the loss for each batch and epoch\n",
    "    \n",
    "    Finally the function calculates the model accuracy.'''\n",
    "    total_loss = 0\n",
    "    N = len(loader.dataset)\n",
    "    \n",
    "    # Creating empty lists Y and Y_pred to store the labels and predictions of each batch\n",
    "    # for calculateing the accuracy later\n",
    "    Y = []\n",
    "    Y_pred = []\n",
    "    for i, (x, y) in enumerate(train_loader):\n",
    "        x = x.to(device)\n",
    "        y = y.to(device)\n",
    "        p = model(x, parameters)\n",
    "\n",
    "        ## FILL HERE\n",
    "        loss = cross_entropy_loss(p, y)\n",
    "        train_loss += loss\n",
    "\n",
    "        y_pred = p.argmax(dim=-1)\n",
    "        Y.append(y.cpu().numpy())\n",
    "        Y_pred.append(y_pred.cpu().numpy())\n",
    "    Y = np.concatenate(Y)\n",
    "    Y_pred = np.concatenate(Y_pred)\n",
    "    total_loss /= N\n",
    "    acc = accuracy(Y_pred, Y)\n",
    "    print(f'Accuracy of {set_name} set: {acc}')\n",
    "\n",
    "    return total_loss, acc"
   ]
  },
  {
   "cell_type": "code",
   "execution_count": 46,
   "id": "87ebb4b6",
   "metadata": {},
   "outputs": [],
   "source": [
    "train_losses = []\n",
    "test_losses = []\n",
    "train_accuracies = []\n",
    "test_accuracies = []"
   ]
  },
  {
   "cell_type": "code",
   "execution_count": 47,
   "id": "28d4eb0b",
   "metadata": {},
   "outputs": [
    {
     "ename": "IndentationError",
     "evalue": "expected an indented block (1779828123.py, line 16)",
     "output_type": "error",
     "traceback": [
      "\u001b[1;36m  Cell \u001b[1;32mIn[47], line 16\u001b[1;36m\u001b[0m\n\u001b[1;33m    ## FILL HERE\u001b[0m\n\u001b[1;37m                ^\u001b[0m\n\u001b[1;31mIndentationError\u001b[0m\u001b[1;31m:\u001b[0m expected an indented block\n"
     ]
    }
   ],
   "source": [
    "def train_model(dataloaders, num_epochs, learning_rate=0.001, model_name='pytorch_model'):\n",
    "    '''This function trains the model for the number of epochs given and stores, calculates and prints the train\n",
    "    and test losses and accuracies. Finally, it plots the accuracy and loss history for training and test sets'''\n",
    "    train_loader, test_loader = dataloaders\n",
    "\n",
    "    for epoch in range(num_epochs):\n",
    "        ## FILL HERE\n",
    "        ## You should calculate the train and test loss and accuracies for each epoch and add them to\n",
    "        ## the lists `train_losses`, `test_losses`, `train_accuracies` and `test_accuracies`\n",
    "        \n",
    "\n",
    "    ## plot the loss history of training and test sets \n",
    "    ## FILL HERE\n",
    "\n",
    "    ## plot the accuracy history of training and test sets\n",
    "    ## FILL HERE"
   ]
  },
  {
   "cell_type": "code",
   "execution_count": null,
   "id": "2ec4bdd2",
   "metadata": {},
   "outputs": [],
   "source": [
    "# train_model([train_loader, test_loader], num_epochs=25, learning_rate=0.005)\n",
    "\n",
    "num_epochs=25\n",
    "learning_rate=0.005\n",
    "\n",
    "\n",
    "\n",
    "\n",
    "\n"
   ]
  },
  {
   "cell_type": "code",
   "execution_count": null,
   "id": "ceb5783f",
   "metadata": {},
   "outputs": [],
   "source": [
    "print(f'Final test accuracy: {test_accuracies[-1]}')"
   ]
  },
  {
   "cell_type": "markdown",
   "id": "a5e128ed",
   "metadata": {},
   "source": [
    "## Visualization of the labels and predictions\n",
    "\n",
    "In this section, you should visual one image from each class and show both the actual label and the predicted label for that image."
   ]
  },
  {
   "cell_type": "code",
   "execution_count": null,
   "id": "6c0b79fd",
   "metadata": {},
   "outputs": [],
   "source": [
    "## FILL HERE"
   ]
  }
 ],
 "metadata": {
  "kernelspec": {
   "display_name": "Python 3",
   "language": "python",
   "name": "python3"
  },
  "language_info": {
   "codemirror_mode": {
    "name": "ipython",
    "version": 3
   },
   "file_extension": ".py",
   "mimetype": "text/x-python",
   "name": "python",
   "nbconvert_exporter": "python",
   "pygments_lexer": "ipython3",
   "version": "3.9.8"
  },
  "vscode": {
   "interpreter": {
    "hash": "41beeaf87663fb3e3cd4b2f639d3aec926a9267b7576f649f322450b46a69e28"
   }
  }
 },
 "nbformat": 4,
 "nbformat_minor": 5
}
